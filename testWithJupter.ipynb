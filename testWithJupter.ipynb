{
 "cells": [
  {
   "cell_type": "code",
   "execution_count": 3,
   "id": "49788e7f-ae4f-40aa-9639-bfa5f30cbb29",
   "metadata": {},
   "outputs": [],
   "source": [
    "import requests"
   ]
  },
  {
   "cell_type": "code",
   "execution_count": 1,
   "id": "fbb72048-2fcd-4720-8ca1-be7584b29259",
   "metadata": {},
   "outputs": [],
   "source": [
    "from bs4 import BeautifulSoup"
   ]
  },
  {
   "cell_type": "code",
   "execution_count": 71,
   "id": "0aa4a5d7-16c2-4b39-91c0-6a02d5551c5a",
   "metadata": {},
   "outputs": [],
   "source": [
    "url = \"https://beautiful-soup-4.readthedocs.io/en/latest/\"\n",
    "response = requests.get(url)"
   ]
  },
  {
   "cell_type": "code",
   "execution_count": 9,
   "id": "d6694a1b-ed8f-42fd-8a67-33bfa91a6e16",
   "metadata": {},
   "outputs": [],
   "source": [
    "raw_code = response.text"
   ]
  },
  {
   "cell_type": "code",
   "execution_count": 17,
   "id": "b8379b7e-0b85-430e-919b-68706d8ca185",
   "metadata": {},
   "outputs": [],
   "source": [
    "soup = BeautifulSoup(raw_code, \"html.parser\")"
   ]
  },
  {
   "cell_type": "code",
   "execution_count": 69,
   "id": "d68dbb74-3dee-4692-a765-6e8fd3e422a9",
   "metadata": {},
   "outputs": [],
   "source": [
    "var_1 = soup.find(\"title\")"
   ]
  },
  {
   "cell_type": "code",
   "execution_count": 67,
   "id": "1a67e50e-9c2a-41f2-8cf5-13e44fdc03f6",
   "metadata": {},
   "outputs": [],
   "source": [
    "var_2 = soup.find_all(\"a\")"
   ]
  },
  {
   "cell_type": "code",
   "execution_count": 65,
   "id": "f2e72049-4b82-4f33-9240-a893c4061799",
   "metadata": {},
   "outputs": [],
   "source": [
    "var_3 = soup.find(id=\"quick-start\")"
   ]
  },
  {
   "cell_type": "code",
   "execution_count": 61,
   "id": "a8240b52-a39a-4634-9c7f-8a4139bd613d",
   "metadata": {},
   "outputs": [],
   "source": [
    "var_4 = soup.find_all(class_=\"section\")"
   ]
  },
  {
   "cell_type": "code",
   "execution_count": 83,
   "id": "bba7e72b-e3f4-486b-b15f-1037578ad8a0",
   "metadata": {},
   "outputs": [],
   "source": [
    "var_5 = soup.select(\"h2\")"
   ]
  },
  {
   "cell_type": "code",
   "execution_count": 87,
   "id": "7dd2095f-3831-4ae5-a774-5c161450ed50",
   "metadata": {},
   "outputs": [],
   "source": [
    "var_6 = soup.select(\"#quick-start\")"
   ]
  },
  {
   "cell_type": "code",
   "execution_count": 91,
   "id": "f3420cb3-43ca-4237-bc0d-b32bca2e3eec",
   "metadata": {},
   "outputs": [],
   "source": [
    "var_7 = soup.select(\".section\")"
   ]
  },
  {
   "cell_type": "code",
   "execution_count": 97,
   "id": "f860c566-1095-41b2-9e10-ae93cb91ba33",
   "metadata": {},
   "outputs": [],
   "source": [
    "var_8 = soup.select(\"#beautiful-soup-documentation h1\")"
   ]
  },
  {
   "cell_type": "code",
   "execution_count": 103,
   "id": "489d7a3f-cd42-49f7-acd1-c63dc3ab009e",
   "metadata": {},
   "outputs": [],
   "source": [
    "var_9 = soup.select(\"a[href='#searching-the-tree']\")"
   ]
  },
  {
   "cell_type": "code",
   "execution_count": null,
   "id": "4bd8ed84-8c8d-4a75-98da-88ee2dec6377",
   "metadata": {},
   "outputs": [],
   "source": []
  }
 ],
 "metadata": {
  "kernelspec": {
   "display_name": "Python 3 (ipykernel)",
   "language": "python",
   "name": "python3"
  },
  "language_info": {
   "codemirror_mode": {
    "name": "ipython",
    "version": 3
   },
   "file_extension": ".py",
   "mimetype": "text/x-python",
   "name": "python",
   "nbconvert_exporter": "python",
   "pygments_lexer": "ipython3",
   "version": "3.12.4"
  }
 },
 "nbformat": 4,
 "nbformat_minor": 5
}
