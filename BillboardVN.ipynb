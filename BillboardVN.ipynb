{
 "cells": [
  {
   "cell_type": "code",
   "execution_count": 1,
   "id": "22f028cf-eb76-4578-80ac-97a79e004590",
   "metadata": {},
   "outputs": [],
   "source": [
    "import requests\n",
    "from bs4 import BeautifulSoup"
   ]
  },
  {
   "cell_type": "code",
   "execution_count": 103,
   "id": "2f404657-818f-4c49-aa60-5d8b277a3023",
   "metadata": {},
   "outputs": [
    {
     "name": "stdout",
     "output_type": "stream",
     "text": [
      "<Response [200]>\n"
     ]
    }
   ],
   "source": [
    "url = \"https://www.billboard.com/charts/billboard-vietnam-hot-100/\"\n",
    "res = requests.get(url)\n",
    "print(res)"
   ]
  },
  {
   "cell_type": "code",
   "execution_count": 105,
   "id": "c0ab939d-2d9d-457f-affc-1b4e868ef3dd",
   "metadata": {},
   "outputs": [],
   "source": [
    "soup = BeautifulSoup(res.text, \"lxml\")"
   ]
  },
  {
   "cell_type": "code",
   "execution_count": 119,
   "id": "75c54aca-b547-4e52-964c-8e7ba1bf4888",
   "metadata": {},
   "outputs": [],
   "source": [
    "songs = soup.select(\"li h3\")"
   ]
  },
  {
   "cell_type": "code",
   "execution_count": 143,
   "id": "0f674ad9-51e5-4d01-b39e-7b0f376b7089",
   "metadata": {},
   "outputs": [],
   "source": [
    "top100 = [song.text[14:][0:-5] for song in songs[:100]]"
   ]
  },
  {
   "cell_type": "code",
   "execution_count": 145,
   "id": "c8b19454-99bc-45ac-b513-7b29751f4885",
   "metadata": {},
   "outputs": [
    {
     "name": "stdout",
     "output_type": "stream",
     "text": [
      "Billboard Vietnam Hot 100\n",
      "1) Nhung Loi Hua Bo Quen\n",
      "2) Tung Quen\n",
      "3) Chiu Cach Minh Noi Thua\n",
      "4) Ban Doi\n",
      "5) Be Oi Tu Tu\n",
      "6) Anh La Ngoai Le Cua Em\n",
      "7) Call Me\n",
      "8) Cat Doi Noi Sau\n",
      "9) Le Luu Ly\n",
      "10) shhhhhhh..\n",
      "11) Phong Do Tim Em\n",
      "12) TETVOVEN\n",
      "13) Simp Gai 808\n",
      "14) Standing Next To You\n",
      "15) Seven\n",
      "16) Danh Doi\n",
      "17) Chim Sau\n",
      "18) Cau Vinh Tuy\n",
      "19) Loi Choi (Interlude)\n",
      "20) One Of The Girls\n",
      "21) Hit Me Up\n",
      "22) Ha Noi\n",
      "23) Tinh Yeu Vi Mo\n",
      "24) neu luc do\n",
      "25) id 072019\n",
      "26) \n",
      "27) \t\t\t\tExpand charts menu\t\t\n",
      "28) \t\t\tExpand music menu\t\t\n",
      "29) \t\t\t\tExpand videos menu\t\t\n",
      "30) \t\t\t\t\tExpand culture menu\t\t\n",
      "31) \t\t\tExpand media menu\t\t\n",
      "32) \n",
      "\t\t\t\t\tExpand business menu\t\t\n",
      "33) \n",
      "\n",
      "\t\t\t\t\tExpand pro-tools menu\t\t\n",
      "34) spañol\n",
      "\n",
      "\n",
      "\n",
      "\t\t\t\t\tExpand billboard-espanol menu\t\t\n",
      "35) ems by Tres\n",
      "\n",
      "\n",
      "\n",
      "\t\t\t\t\tExpand get-up-anthems-by-tres menu\t\t\n",
      "36) \n",
      "\n",
      "\n",
      "\n",
      "\t\t\t\t\tExpand honda-music menu\t\t\n"
     ]
    }
   ],
   "source": [
    "i = 0 \n",
    "tieude = soup.select(\"title\")\n",
    "tieude = tieude[0]\n",
    "print(tieude.string)\n",
    "for song in top100:\n",
    "    i += 1 \n",
    "    print(f\"{i}) {song}\")"
   ]
  },
  {
   "cell_type": "code",
   "execution_count": null,
   "id": "a117960d-9b81-4cc6-8838-52f2ee135ea6",
   "metadata": {},
   "outputs": [],
   "source": []
  }
 ],
 "metadata": {
  "kernelspec": {
   "display_name": "Python 3 (ipykernel)",
   "language": "python",
   "name": "python3"
  },
  "language_info": {
   "codemirror_mode": {
    "name": "ipython",
    "version": 3
   },
   "file_extension": ".py",
   "mimetype": "text/x-python",
   "name": "python",
   "nbconvert_exporter": "python",
   "pygments_lexer": "ipython3",
   "version": "3.12.4"
  }
 },
 "nbformat": 4,
 "nbformat_minor": 5
}
