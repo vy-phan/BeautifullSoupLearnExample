{
 "cells": [
  {
   "cell_type": "code",
   "execution_count": 1,
   "id": "4df0aa81-68d5-4aaf-a541-9cba2e3f89ba",
   "metadata": {},
   "outputs": [],
   "source": [
    "import requests\n",
    "from bs4 import BeautifulSoup"
   ]
  },
  {
   "cell_type": "code",
   "execution_count": 5,
   "id": "38ceabf4-8d90-4c1f-b091-62df0ae883a5",
   "metadata": {},
   "outputs": [
    {
     "name": "stdout",
     "output_type": "stream",
     "text": [
      "<Response [200]>\n"
     ]
    }
   ],
   "source": [
    "url = \"https://myanimelist.net/topanime.php\"\n",
    "res = requests.get(url)\n",
    "print(res)"
   ]
  },
  {
   "cell_type": "code",
   "execution_count": 9,
   "id": "0d028127-3025-4e0b-9fb2-abdc2529d512",
   "metadata": {},
   "outputs": [],
   "source": [
    "soup = BeautifulSoup(res.text , \"lxml\")"
   ]
  },
  {
   "cell_type": "code",
   "execution_count": 125,
   "id": "597f6dc6-d4e1-417f-9ba6-d4664979b38b",
   "metadata": {},
   "outputs": [],
   "source": [
    "nameAnime = []\n",
    "ratingAnime = []\n",
    "\n",
    "nameLists = soup.select(\".detail h3\")\n",
    "for element in nameLists:\n",
    "    nameAnime.append(element.text)\n",
    "\n",
    "ratingLists = soup.select(\".ranking-list td div span\")\n",
    "i = 0\n",
    "for element in ratingLists:\n",
    "    if i % 2 == 0:\n",
    "        ratingAnime.append(element.text)\n",
    "    i += 1"
   ]
  },
  {
   "cell_type": "code",
   "execution_count": 127,
   "id": "6ac8e077-7e1e-48f0-a7b1-4a69f37cf7e4",
   "metadata": {},
   "outputs": [],
   "source": [
    "animeRecommend = []\n",
    "for i in range(0,20):\n",
    "    movie = {\n",
    "        \"name\": nameAnime[i],\n",
    "        \"rating\": ratingAnime[i]\n",
    "    }\n",
    "    animeRecommend.append(movie)"
   ]
  },
  {
   "cell_type": "code",
   "execution_count": 121,
   "id": "8b2bffbf-d98b-4c6b-a120-0676fe8c1a8a",
   "metadata": {},
   "outputs": [
    {
     "name": "stdout",
     "output_type": "stream",
     "text": [
      "{'name': 'Sousou no Frieren', 'rating': '9.34'}\n",
      "{'name': 'Fullmetal Alchemist: Brotherhood', 'rating': '9.09'}\n",
      "{'name': 'Steins;Gate', 'rating': '9.07'}\n",
      "{'name': 'Gintama°', 'rating': '9.06'}\n",
      "{'name': 'Shingeki no Kyojin Season 3 Part 2', 'rating': '9.05'}\n",
      "{'name': 'Gintama: The Final', 'rating': '9.04'}\n",
      "{'name': \"Gintama'\", 'rating': '9.03'}\n",
      "{'name': 'Hunter x Hunter (2011)', 'rating': '9.03'}\n",
      "{'name': 'Ginga Eiyuu Densetsu', 'rating': '9.02'}\n",
      "{'name': \"Gintama': Enchousen\", 'rating': '9.02'}\n",
      "{'name': 'Bleach: Sennen Kessen-hen', 'rating': '9.01'}\n",
      "{'name': 'Kaguya-sama wa Kokurasetai: Ultra Romantic', 'rating': '9.00'}\n",
      "{'name': 'Gintama.', 'rating': '8.98'}\n",
      "{'name': 'Fruits Basket: The Final', 'rating': '8.97'}\n",
      "{'name': 'Monogatari Series: Off & Monster Season', 'rating': '8.96'}\n",
      "{'name': 'Koe no Katachi', 'rating': '8.93'}\n",
      "{'name': 'Clannad: After Story', 'rating': '8.93'}\n",
      "{'name': 'Gintama', 'rating': '8.93'}\n",
      "{'name': '3-gatsu no Lion 2nd Season', 'rating': '8.92'}\n",
      "{'name': 'Code Geass: Hangyaku no Lelouch R2', 'rating': '8.91'}\n"
     ]
    }
   ],
   "source": [
    "for i in animeRecommend:\n",
    "    print(i)"
   ]
  },
  {
   "cell_type": "code",
   "execution_count": null,
   "id": "dc844743-13b0-4c05-b662-364bacb8ea46",
   "metadata": {},
   "outputs": [],
   "source": []
  }
 ],
 "metadata": {
  "kernelspec": {
   "display_name": "Python 3 (ipykernel)",
   "language": "python",
   "name": "python3"
  },
  "language_info": {
   "codemirror_mode": {
    "name": "ipython",
    "version": 3
   },
   "file_extension": ".py",
   "mimetype": "text/x-python",
   "name": "python",
   "nbconvert_exporter": "python",
   "pygments_lexer": "ipython3",
   "version": "3.12.4"
  }
 },
 "nbformat": 4,
 "nbformat_minor": 5
}
