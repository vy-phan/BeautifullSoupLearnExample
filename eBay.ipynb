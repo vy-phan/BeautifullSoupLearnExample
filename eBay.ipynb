{
 "cells": [
  {
   "cell_type": "code",
   "execution_count": 1,
   "id": "681143c9-a828-4b72-8219-69279758ce8c",
   "metadata": {},
   "outputs": [],
   "source": [
    "import requests\n",
    "from bs4 import BeautifulSoup"
   ]
  },
  {
   "cell_type": "code",
   "execution_count": 7,
   "id": "94139f38-7800-4354-9a93-7e2a6a192b19",
   "metadata": {},
   "outputs": [],
   "source": [
    "url = \"https://www.ebay.com/itm/226261227781?itmmeta=01J50CGEA5C1704SCNFQE6DND4&hash=item34ae385905:g:CUYAAOSwBk5moxld&itmprp=enc%3AAQAJAAAA4Er97ij89OXnjZdlUcaXYTd%2BYohdkWo4Z6lBJ7nztiGCrFISIE%2F2O%2BtMtntXsvJ%2BZZ37M9%2B4HpjAvigfWjY8DMb5oYJW%2FWkxUh0COOcV6j37qjkteWUbmYBNt5Wp%2BKCDI1i6AaoJ4gx7uZZps%2F3PNGKgnT0zVTdl%2FkhQX6zDY6lg9oO9W0hvk8CNNzj%2Bq%2FMjymfNgJc%2B%2Fe%2BLi3VCvqNnW9V0OgKiW5z4ibujlPlacftpEUHFzQh04qt%2FoigTtiKv6YApujnkeCIqiQzOmOdn5w9VCtI9Fpe9tTLnZPDzpEef%7Ctkp%3ABk9SR5blwYyoZA\"\n",
    "response = requests.get(url)"
   ]
  },
  {
   "cell_type": "code",
   "execution_count": 9,
   "id": "907a96b5-c956-4b67-a271-49a7906aab36",
   "metadata": {},
   "outputs": [],
   "source": [
    "soup = BeautifulSoup(response.text , \"lxml\")"
   ]
  },
  {
   "cell_type": "code",
   "execution_count": 35,
   "id": "d3715400-eaa1-4ea2-aa71-d74f17656508",
   "metadata": {},
   "outputs": [
    {
     "name": "stdout",
     "output_type": "stream",
     "text": [
      "EUR 850.00\n"
     ]
    }
   ],
   "source": [
    "price = soup.select(\".x-price-primary .ux-textspans\")\n",
    "priceEdic = price[0]\n",
    "priceEdic = priceEdic.text\n",
    "print(priceEdic)"
   ]
  },
  {
   "cell_type": "code",
   "execution_count": 41,
   "id": "58eed0a4-98e7-4bc7-b5d0-19b04605c251",
   "metadata": {},
   "outputs": [
    {
     "name": "stdout",
     "output_type": "stream",
     "text": [
      "850.00\n"
     ]
    }
   ],
   "source": [
    "formatPrice = priceEdic[4:]\n",
    "formatPrice = formatPrice.replace(\",\",\"\")\n",
    "actual_price = float(formatPrice)\n",
    "print(formatPrice)"
   ]
  },
  {
   "cell_type": "code",
   "execution_count": null,
   "id": "2057d586-e472-4b7a-b64c-8e9c000c75d7",
   "metadata": {},
   "outputs": [],
   "source": []
  }
 ],
 "metadata": {
  "kernelspec": {
   "display_name": "Python 3 (ipykernel)",
   "language": "python",
   "name": "python3"
  },
  "language_info": {
   "codemirror_mode": {
    "name": "ipython",
    "version": 3
   },
   "file_extension": ".py",
   "mimetype": "text/x-python",
   "name": "python",
   "nbconvert_exporter": "python",
   "pygments_lexer": "ipython3",
   "version": "3.12.4"
  }
 },
 "nbformat": 4,
 "nbformat_minor": 5
}
